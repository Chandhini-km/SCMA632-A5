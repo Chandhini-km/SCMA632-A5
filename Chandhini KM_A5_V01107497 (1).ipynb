{
 "cells": [
  {
   "cell_type": "code",
   "execution_count": 1,
   "id": "074d5f3e",
   "metadata": {},
   "outputs": [],
   "source": [
    "import pandas as pd\n",
    "import numpy as np\n",
    "from scipy import stats\n",
    "import matplotlib.pyplot as plt\n",
    "import seaborn as sns\n",
    "import geopandas as gpd"
   ]
  },
  {
   "cell_type": "code",
   "execution_count": 2,
   "id": "0b75ce7a",
   "metadata": {},
   "outputs": [],
   "source": [
    "data = pd.read_csv(\"C:\\\\Users\\\\Chand\\\\Downloads\\\\A5\\\\NSSO68.csv\", low_memory=False)"
   ]
  },
  {
   "cell_type": "code",
   "execution_count": 3,
   "id": "271122e3",
   "metadata": {},
   "outputs": [
    {
     "data": {
      "text/html": [
       "<div>\n",
       "<style scoped>\n",
       "    .dataframe tbody tr th:only-of-type {\n",
       "        vertical-align: middle;\n",
       "    }\n",
       "\n",
       "    .dataframe tbody tr th {\n",
       "        vertical-align: top;\n",
       "    }\n",
       "\n",
       "    .dataframe thead th {\n",
       "        text-align: right;\n",
       "    }\n",
       "</style>\n",
       "<table border=\"1\" class=\"dataframe\">\n",
       "  <thead>\n",
       "    <tr style=\"text-align: right;\">\n",
       "      <th></th>\n",
       "      <th>slno</th>\n",
       "      <th>grp</th>\n",
       "      <th>Round_Centre</th>\n",
       "      <th>FSU_number</th>\n",
       "      <th>Round</th>\n",
       "      <th>Schedule_Number</th>\n",
       "      <th>Sample</th>\n",
       "      <th>Sector</th>\n",
       "      <th>state</th>\n",
       "      <th>State_Region</th>\n",
       "      <th>...</th>\n",
       "      <th>pickle_v</th>\n",
       "      <th>sauce_jam_v</th>\n",
       "      <th>Othrprocessed_v</th>\n",
       "      <th>Beveragestotal_v</th>\n",
       "      <th>foodtotal_v</th>\n",
       "      <th>foodtotal_q</th>\n",
       "      <th>state_1</th>\n",
       "      <th>Region</th>\n",
       "      <th>fruits_df_tt_v</th>\n",
       "      <th>fv_tot</th>\n",
       "    </tr>\n",
       "  </thead>\n",
       "  <tbody>\n",
       "    <tr>\n",
       "      <th>0</th>\n",
       "      <td>1</td>\n",
       "      <td>4.10E+31</td>\n",
       "      <td>1</td>\n",
       "      <td>41000</td>\n",
       "      <td>68</td>\n",
       "      <td>10</td>\n",
       "      <td>1</td>\n",
       "      <td>2</td>\n",
       "      <td>24</td>\n",
       "      <td>242</td>\n",
       "      <td>...</td>\n",
       "      <td>0.0</td>\n",
       "      <td>0.0</td>\n",
       "      <td>0.0</td>\n",
       "      <td>0.000000</td>\n",
       "      <td>1141.492400</td>\n",
       "      <td>30.942394</td>\n",
       "      <td>GUJ</td>\n",
       "      <td>2</td>\n",
       "      <td>12.000000</td>\n",
       "      <td>154.180000</td>\n",
       "    </tr>\n",
       "    <tr>\n",
       "      <th>1</th>\n",
       "      <td>2</td>\n",
       "      <td>4.10E+31</td>\n",
       "      <td>1</td>\n",
       "      <td>41000</td>\n",
       "      <td>68</td>\n",
       "      <td>10</td>\n",
       "      <td>1</td>\n",
       "      <td>2</td>\n",
       "      <td>24</td>\n",
       "      <td>242</td>\n",
       "      <td>...</td>\n",
       "      <td>0.0</td>\n",
       "      <td>0.0</td>\n",
       "      <td>0.0</td>\n",
       "      <td>17.500000</td>\n",
       "      <td>1244.553500</td>\n",
       "      <td>29.286153</td>\n",
       "      <td>GUJ</td>\n",
       "      <td>2</td>\n",
       "      <td>333.000000</td>\n",
       "      <td>484.950000</td>\n",
       "    </tr>\n",
       "    <tr>\n",
       "      <th>2</th>\n",
       "      <td>3</td>\n",
       "      <td>4.10E+31</td>\n",
       "      <td>1</td>\n",
       "      <td>41000</td>\n",
       "      <td>68</td>\n",
       "      <td>10</td>\n",
       "      <td>1</td>\n",
       "      <td>2</td>\n",
       "      <td>24</td>\n",
       "      <td>242</td>\n",
       "      <td>...</td>\n",
       "      <td>0.0</td>\n",
       "      <td>0.0</td>\n",
       "      <td>0.0</td>\n",
       "      <td>0.000000</td>\n",
       "      <td>1050.315400</td>\n",
       "      <td>31.527046</td>\n",
       "      <td>GUJ</td>\n",
       "      <td>2</td>\n",
       "      <td>35.000000</td>\n",
       "      <td>214.840000</td>\n",
       "    </tr>\n",
       "    <tr>\n",
       "      <th>3</th>\n",
       "      <td>4</td>\n",
       "      <td>4.10E+31</td>\n",
       "      <td>1</td>\n",
       "      <td>41000</td>\n",
       "      <td>68</td>\n",
       "      <td>10</td>\n",
       "      <td>1</td>\n",
       "      <td>2</td>\n",
       "      <td>24</td>\n",
       "      <td>242</td>\n",
       "      <td>...</td>\n",
       "      <td>0.0</td>\n",
       "      <td>0.0</td>\n",
       "      <td>0.0</td>\n",
       "      <td>33.333333</td>\n",
       "      <td>1142.591667</td>\n",
       "      <td>27.834607</td>\n",
       "      <td>GUJ</td>\n",
       "      <td>2</td>\n",
       "      <td>168.333333</td>\n",
       "      <td>302.300000</td>\n",
       "    </tr>\n",
       "    <tr>\n",
       "      <th>4</th>\n",
       "      <td>5</td>\n",
       "      <td>4.10E+31</td>\n",
       "      <td>1</td>\n",
       "      <td>41000</td>\n",
       "      <td>68</td>\n",
       "      <td>10</td>\n",
       "      <td>1</td>\n",
       "      <td>2</td>\n",
       "      <td>24</td>\n",
       "      <td>242</td>\n",
       "      <td>...</td>\n",
       "      <td>0.0</td>\n",
       "      <td>0.0</td>\n",
       "      <td>0.0</td>\n",
       "      <td>75.000000</td>\n",
       "      <td>945.249500</td>\n",
       "      <td>27.600713</td>\n",
       "      <td>GUJ</td>\n",
       "      <td>2</td>\n",
       "      <td>15.000000</td>\n",
       "      <td>148.000000</td>\n",
       "    </tr>\n",
       "    <tr>\n",
       "      <th>...</th>\n",
       "      <td>...</td>\n",
       "      <td>...</td>\n",
       "      <td>...</td>\n",
       "      <td>...</td>\n",
       "      <td>...</td>\n",
       "      <td>...</td>\n",
       "      <td>...</td>\n",
       "      <td>...</td>\n",
       "      <td>...</td>\n",
       "      <td>...</td>\n",
       "      <td>...</td>\n",
       "      <td>...</td>\n",
       "      <td>...</td>\n",
       "      <td>...</td>\n",
       "      <td>...</td>\n",
       "      <td>...</td>\n",
       "      <td>...</td>\n",
       "      <td>...</td>\n",
       "      <td>...</td>\n",
       "      <td>...</td>\n",
       "      <td>...</td>\n",
       "    </tr>\n",
       "    <tr>\n",
       "      <th>101657</th>\n",
       "      <td>101658</td>\n",
       "      <td>8.00E+31</td>\n",
       "      <td>1</td>\n",
       "      <td>79998</td>\n",
       "      <td>68</td>\n",
       "      <td>10</td>\n",
       "      <td>1</td>\n",
       "      <td>1</td>\n",
       "      <td>1</td>\n",
       "      <td>12</td>\n",
       "      <td>...</td>\n",
       "      <td>0.0</td>\n",
       "      <td>0.0</td>\n",
       "      <td>0.0</td>\n",
       "      <td>0.000000</td>\n",
       "      <td>544.013667</td>\n",
       "      <td>28.441750</td>\n",
       "      <td>J$K</td>\n",
       "      <td>2</td>\n",
       "      <td>0.000000</td>\n",
       "      <td>25.833333</td>\n",
       "    </tr>\n",
       "    <tr>\n",
       "      <th>101658</th>\n",
       "      <td>101659</td>\n",
       "      <td>8.00E+31</td>\n",
       "      <td>1</td>\n",
       "      <td>79998</td>\n",
       "      <td>68</td>\n",
       "      <td>10</td>\n",
       "      <td>1</td>\n",
       "      <td>1</td>\n",
       "      <td>1</td>\n",
       "      <td>12</td>\n",
       "      <td>...</td>\n",
       "      <td>0.0</td>\n",
       "      <td>0.0</td>\n",
       "      <td>0.0</td>\n",
       "      <td>8.000000</td>\n",
       "      <td>417.616600</td>\n",
       "      <td>25.490282</td>\n",
       "      <td>J$K</td>\n",
       "      <td>2</td>\n",
       "      <td>0.000000</td>\n",
       "      <td>49.000000</td>\n",
       "    </tr>\n",
       "    <tr>\n",
       "      <th>101659</th>\n",
       "      <td>101660</td>\n",
       "      <td>8.00E+31</td>\n",
       "      <td>1</td>\n",
       "      <td>79998</td>\n",
       "      <td>68</td>\n",
       "      <td>10</td>\n",
       "      <td>1</td>\n",
       "      <td>1</td>\n",
       "      <td>1</td>\n",
       "      <td>12</td>\n",
       "      <td>...</td>\n",
       "      <td>0.0</td>\n",
       "      <td>0.0</td>\n",
       "      <td>0.0</td>\n",
       "      <td>7.142857</td>\n",
       "      <td>378.300429</td>\n",
       "      <td>25.800107</td>\n",
       "      <td>J$K</td>\n",
       "      <td>2</td>\n",
       "      <td>0.000000</td>\n",
       "      <td>32.285714</td>\n",
       "    </tr>\n",
       "    <tr>\n",
       "      <th>101660</th>\n",
       "      <td>101661</td>\n",
       "      <td>8.00E+31</td>\n",
       "      <td>1</td>\n",
       "      <td>79998</td>\n",
       "      <td>68</td>\n",
       "      <td>10</td>\n",
       "      <td>1</td>\n",
       "      <td>1</td>\n",
       "      <td>1</td>\n",
       "      <td>12</td>\n",
       "      <td>...</td>\n",
       "      <td>0.0</td>\n",
       "      <td>0.0</td>\n",
       "      <td>0.0</td>\n",
       "      <td>14.000000</td>\n",
       "      <td>510.023600</td>\n",
       "      <td>30.220170</td>\n",
       "      <td>J$K</td>\n",
       "      <td>2</td>\n",
       "      <td>0.000000</td>\n",
       "      <td>39.200000</td>\n",
       "    </tr>\n",
       "    <tr>\n",
       "      <th>101661</th>\n",
       "      <td>101662</td>\n",
       "      <td>8.00E+31</td>\n",
       "      <td>1</td>\n",
       "      <td>79998</td>\n",
       "      <td>68</td>\n",
       "      <td>10</td>\n",
       "      <td>1</td>\n",
       "      <td>1</td>\n",
       "      <td>1</td>\n",
       "      <td>12</td>\n",
       "      <td>...</td>\n",
       "      <td>0.0</td>\n",
       "      <td>0.0</td>\n",
       "      <td>0.0</td>\n",
       "      <td>8.571429</td>\n",
       "      <td>424.589714</td>\n",
       "      <td>26.157279</td>\n",
       "      <td>J$K</td>\n",
       "      <td>2</td>\n",
       "      <td>0.000000</td>\n",
       "      <td>39.714286</td>\n",
       "    </tr>\n",
       "  </tbody>\n",
       "</table>\n",
       "<p>101662 rows × 384 columns</p>\n",
       "</div>"
      ],
      "text/plain": [
       "          slno       grp  Round_Centre  FSU_number  Round  Schedule_Number  \\\n",
       "0            1  4.10E+31             1       41000     68               10   \n",
       "1            2  4.10E+31             1       41000     68               10   \n",
       "2            3  4.10E+31             1       41000     68               10   \n",
       "3            4  4.10E+31             1       41000     68               10   \n",
       "4            5  4.10E+31             1       41000     68               10   \n",
       "...        ...       ...           ...         ...    ...              ...   \n",
       "101657  101658  8.00E+31             1       79998     68               10   \n",
       "101658  101659  8.00E+31             1       79998     68               10   \n",
       "101659  101660  8.00E+31             1       79998     68               10   \n",
       "101660  101661  8.00E+31             1       79998     68               10   \n",
       "101661  101662  8.00E+31             1       79998     68               10   \n",
       "\n",
       "        Sample  Sector  state  State_Region  ...  pickle_v  sauce_jam_v  \\\n",
       "0            1       2     24           242  ...       0.0          0.0   \n",
       "1            1       2     24           242  ...       0.0          0.0   \n",
       "2            1       2     24           242  ...       0.0          0.0   \n",
       "3            1       2     24           242  ...       0.0          0.0   \n",
       "4            1       2     24           242  ...       0.0          0.0   \n",
       "...        ...     ...    ...           ...  ...       ...          ...   \n",
       "101657       1       1      1            12  ...       0.0          0.0   \n",
       "101658       1       1      1            12  ...       0.0          0.0   \n",
       "101659       1       1      1            12  ...       0.0          0.0   \n",
       "101660       1       1      1            12  ...       0.0          0.0   \n",
       "101661       1       1      1            12  ...       0.0          0.0   \n",
       "\n",
       "        Othrprocessed_v  Beveragestotal_v  foodtotal_v  foodtotal_q  state_1  \\\n",
       "0                   0.0          0.000000  1141.492400    30.942394      GUJ   \n",
       "1                   0.0         17.500000  1244.553500    29.286153      GUJ   \n",
       "2                   0.0          0.000000  1050.315400    31.527046      GUJ   \n",
       "3                   0.0         33.333333  1142.591667    27.834607      GUJ   \n",
       "4                   0.0         75.000000   945.249500    27.600713      GUJ   \n",
       "...                 ...               ...          ...          ...      ...   \n",
       "101657              0.0          0.000000   544.013667    28.441750      J$K   \n",
       "101658              0.0          8.000000   417.616600    25.490282      J$K   \n",
       "101659              0.0          7.142857   378.300429    25.800107      J$K   \n",
       "101660              0.0         14.000000   510.023600    30.220170      J$K   \n",
       "101661              0.0          8.571429   424.589714    26.157279      J$K   \n",
       "\n",
       "        Region  fruits_df_tt_v      fv_tot  \n",
       "0            2       12.000000  154.180000  \n",
       "1            2      333.000000  484.950000  \n",
       "2            2       35.000000  214.840000  \n",
       "3            2      168.333333  302.300000  \n",
       "4            2       15.000000  148.000000  \n",
       "...        ...             ...         ...  \n",
       "101657       2        0.000000   25.833333  \n",
       "101658       2        0.000000   49.000000  \n",
       "101659       2        0.000000   32.285714  \n",
       "101660       2        0.000000   39.200000  \n",
       "101661       2        0.000000   39.714286  \n",
       "\n",
       "[101662 rows x 384 columns]"
      ]
     },
     "metadata": {},
     "output_type": "display_data"
    }
   ],
   "source": [
    "display(data)"
   ]
  },
  {
   "cell_type": "code",
   "execution_count": 4,
   "id": "00be2699",
   "metadata": {},
   "outputs": [],
   "source": [
    "Mizoram_data = data[data['state_1'] == 'MIZ']"
   ]
  },
  {
   "cell_type": "code",
   "execution_count": 6,
   "id": "eea77fb0",
   "metadata": {},
   "outputs": [
    {
     "name": "stdout",
     "output_type": "stream",
     "text": [
      "Missing values in each column:\n",
      "slno              0\n",
      "grp               0\n",
      "Round_Centre      0\n",
      "FSU_number        0\n",
      "Round             0\n",
      "                 ..\n",
      "foodtotal_q       0\n",
      "state_1           0\n",
      "Region            0\n",
      "fruits_df_tt_v    0\n",
      "fv_tot            0\n",
      "Length: 384, dtype: int64\n"
     ]
    }
   ],
   "source": [
    "missing_values = Mizoram_data.isna().sum()\n",
    "print(\"Missing values in each column:\")\n",
    "print(missing_values)"
   ]
  },
  {
   "cell_type": "code",
   "execution_count": 9,
   "id": "68cd0da6",
   "metadata": {},
   "outputs": [],
   "source": [
    "MIZ = Mizoram_data[['state_1', 'District', 'Region', 'Sector', 'State_Region', 'Meals_At_Home', 'ricepds_v', 'Wheatpds_q', 'chicken_q', 'pulsep_q', 'wheatos_q', 'No_of_Meals_per_day']]"
   ]
  },
  {
   "cell_type": "code",
   "execution_count": 10,
   "id": "b0acc38f",
   "metadata": {},
   "outputs": [],
   "source": [
    "def impute_with_mean(column):\n",
    "    if column.hasnans:\n",
    "        column.fillna(column.mean(), inplace=True)\n",
    "    return column"
   ]
  },
  {
   "cell_type": "code",
   "execution_count": 11,
   "id": "18966c3e",
   "metadata": {},
   "outputs": [
    {
     "name": "stderr",
     "output_type": "stream",
     "text": [
      "C:\\Users\\Chand\\AppData\\Local\\Temp\\ipykernel_20888\\3434046346.py:1: SettingWithCopyWarning: \n",
      "A value is trying to be set on a copy of a slice from a DataFrame.\n",
      "Try using .loc[row_indexer,col_indexer] = value instead\n",
      "\n",
      "See the caveats in the documentation: https://pandas.pydata.org/pandas-docs/stable/user_guide/indexing.html#returning-a-view-versus-a-copy\n",
      "  MIZ['Meals_At_Home'] = impute_with_mean(MIZ['Meals_At_Home'])\n"
     ]
    }
   ],
   "source": [
    "MIZ['Meals_At_Home'] = impute_with_mean(MIZ['Meals_At_Home'])"
   ]
  },
  {
   "cell_type": "code",
   "execution_count": 12,
   "id": "786b1f7c",
   "metadata": {},
   "outputs": [],
   "source": [
    "def remove_outliers(df, column_name):\n",
    "    Q1 = df[column_name].quantile(0.25)\n",
    "    Q3 = df[column_name].quantile(0.75)\n",
    "    IQR = Q3 - Q1\n",
    "    lower_threshold = Q1 - (1.5 * IQR)\n",
    "    upper_threshold = Q3 + (1.5 * IQR)\n",
    "    df = df[(df[column_name] >= lower_threshold) & (df[column_name] <= upper_threshold)]\n",
    "    return df\n",
    "\n",
    "outlier_columns = ['ricepds_v', 'chicken_q']\n",
    "for col in outlier_columns:\n",
    "    MIZ = remove_outliers(MIZ, col)"
   ]
  },
  {
   "cell_type": "code",
   "execution_count": 13,
   "id": "415cfbae",
   "metadata": {},
   "outputs": [],
   "source": [
    "MIZ['total_consumption'] = MIZ[['ricepds_v', 'Wheatpds_q', 'chicken_q', 'pulsep_q', 'wheatos_q']].sum(axis=1)"
   ]
  },
  {
   "cell_type": "code",
   "execution_count": 16,
   "id": "1746cb59",
   "metadata": {},
   "outputs": [],
   "source": [
    "def summarize_consumption(group_col):\n",
    "    summary = MIZ.groupby(group_col)['total_consumption'].sum().reset_index()\n",
    "    summary.sort_values(by='total_consumption', ascending=False, inplace=True)\n",
    "    return summary"
   ]
  },
  {
   "cell_type": "code",
   "execution_count": 20,
   "id": "f17244a9",
   "metadata": {},
   "outputs": [],
   "source": [
    "district_summary = summarize_consumption('District')\n",
    "region_summary = summarize_consumption('Region')"
   ]
  },
  {
   "cell_type": "code",
   "execution_count": 18,
   "id": "962ebe90",
   "metadata": {},
   "outputs": [
    {
     "name": "stdout",
     "output_type": "stream",
     "text": [
      "Top Consuming Districts:\n",
      "   District  total_consumption\n",
      "2         3       23071.710148\n",
      "5         6       14292.095238\n",
      "3         4        7531.556744\n",
      "7         8        5964.139484\n",
      "Region Consumption Summary:\n",
      "   Region  total_consumption\n",
      "0       1       68630.878635\n"
     ]
    }
   ],
   "source": [
    "print(\"Top Consuming Districts:\")\n",
    "print(district_summary.head(4))\n",
    "print(\"Region Consumption Summary:\")\n",
    "print(region_summary)"
   ]
  },
  {
   "cell_type": "code",
   "execution_count": 21,
   "id": "81f357fc",
   "metadata": {},
   "outputs": [],
   "source": [
    "district = {'1': 'Mamit',\n",
    "    '2': 'Kolasib',\n",
    "    '3': 'Aizawl ',\n",
    "    '4': 'Champhai',\n",
    "    '5': 'Serchhip',\n",
    "    '6': 'Lunglei',\n",
    "    '7': 'Lawngtlai',\n",
    "    '8': 'Saiha',\n",
    "}\n",
    "\n",
    "sector = {\n",
    "    '2': 'URBAN',\n",
    "    '1': 'RURAL'\n",
    "}"
   ]
  },
  {
   "cell_type": "code",
   "execution_count": 24,
   "id": "74e995e7",
   "metadata": {},
   "outputs": [],
   "source": [
    "MIZ['District'] = MIZ['District'].astype(str)\n",
    "MIZ['Sector'] = MIZ['Sector'].astype(str)\n",
    "\n",
    "MIZ['District'] = MIZ['District'].map(district).fillna(MIZ['District'])\n",
    "MIZ['Sector'] = MIZ['Sector'].map(sector).fillna(MIZ['Sector'])"
   ]
  },
  {
   "cell_type": "code",
   "execution_count": 25,
   "id": "942b1c7f",
   "metadata": {},
   "outputs": [
    {
     "name": "stdout",
     "output_type": "stream",
     "text": [
      "      state_1  District  Region Sector  State_Region  Meals_At_Home  \\\n",
      "14581     MIZ  Serchhip       1  URBAN           151           60.0   \n",
      "14582     MIZ  Serchhip       1  URBAN           151           60.0   \n",
      "14583     MIZ  Serchhip       1  URBAN           151           60.0   \n",
      "14584     MIZ  Serchhip       1  URBAN           151           60.0   \n",
      "14585     MIZ  Serchhip       1  URBAN           151           60.0   \n",
      "\n",
      "       ricepds_v  Wheatpds_q  chicken_q  pulsep_q  wheatos_q  \\\n",
      "14581       38.0         0.0        0.0       0.0        0.0   \n",
      "14582       38.0         0.0        0.0       0.0        0.0   \n",
      "14583       38.0         0.0        0.0       0.0        0.0   \n",
      "14584        0.0         0.0        0.0       0.0        0.0   \n",
      "14585       38.0         0.0        0.0       0.0        0.0   \n",
      "\n",
      "       No_of_Meals_per_day  total_consumption  \n",
      "14581                  NaN               38.0  \n",
      "14582                  2.0               38.0  \n",
      "14583                  2.0               38.0  \n",
      "14584                  2.0                0.0  \n",
      "14585                  2.0               38.0  \n"
     ]
    }
   ],
   "source": [
    "print(MIZ.head())"
   ]
  },
  {
   "cell_type": "code",
   "execution_count": 39,
   "id": "af58bade",
   "metadata": {},
   "outputs": [
    {
     "data": {
      "image/png": "[encoded data removed]",
      "text/plain": [
       "<Figure size 640x480 with 1 Axes>"
      ]
     },
     "metadata": {},
     "output_type": "display_data"
    }
   ],
   "source": [
    "plt.hist(MIZ['total_consumption'], bins=10, color='blue', edgecolor='black')\n",
    "plt.xlabel(\"Consumption\")\n",
    "plt.ylabel(\"Frequency\")\n",
    "plt.title(\"Consumption Distribution in Mizoram State\")\n",
    "plt.show()"
   ]
  },
  {
   "cell_type": "code",
   "execution_count": 29,
   "id": "a68fd888",
   "metadata": {},
   "outputs": [],
   "source": [
    "MIZ_consumption = MIZ.groupby('District')['total_consumption'].sum().reset_index()"
   ]
  },
  {
   "cell_type": "code",
   "execution_count": 30,
   "id": "d4563672",
   "metadata": {},
   "outputs": [
    {
     "name": "stdout",
     "output_type": "stream",
     "text": [
      "    District  total_consumption\n",
      "0    Aizawl        23071.710148\n",
      "1   Champhai        7531.556744\n",
      "2    Kolasib        4149.339286\n",
      "3  Lawngtlai        5008.772619\n",
      "4    Lunglei       14292.095238\n"
     ]
    }
   ],
   "source": [
    "print(MIZ_consumption.head())"
   ]
  },
  {
   "cell_type": "code",
   "execution_count": 31,
   "id": "39e24639",
   "metadata": {},
   "outputs": [
    {
     "data": {
      "image/png": "[encoded data removed]",
      "text/plain": [
       "<Figure size 640x480 with 1 Axes>"
      ]
     },
     "metadata": {},
     "output_type": "display_data"
    }
   ],
   "source": [
    "plt.bar(MIZ_consumption['District'], MIZ_consumption['total_consumption'], color='blue', edgecolor='black')\n",
    "plt.xlabel(\"District\")\n",
    "plt.ylabel(\"Total Consumption\")\n",
    "plt.title(\"Total Consumption per District\")\n",
    "plt.xticks(rotation=90)  # Rotate district names for better visibility\n",
    "plt.show()"
   ]
  },
  {
   "cell_type": "code",
   "execution_count": 32,
   "id": "64b58b12",
   "metadata": {},
   "outputs": [],
   "source": [
    "data_map = gpd.read_file(\"C:\\\\Users\\\\Chand\\\\Downloads\\\\MIZORAM_DISTRICTS.geojson\")"
   ]
  },
  {
   "cell_type": "code",
   "execution_count": 34,
   "id": "d8c36fc8",
   "metadata": {},
   "outputs": [
    {
     "name": "stdout",
     "output_type": "stream",
     "text": [
      "Index(['OBJECTID', 'dtname', 'stname', 'stcode11', 'dtcode11', 'year_stat',\n",
      "       'test', 'Dist_LGD', 'State_LGD', 'Shape_Leng', 'Shape.STArea()',\n",
      "       'Shape.STLength()', 'geometry'],\n",
      "      dtype='object')\n",
      "Index(['District', 'total_consumption'], dtype='object')\n"
     ]
    }
   ],
   "source": [
    "print(data_map.columns)\n",
    "print(MIZ_consumption.columns)"
   ]
  },
  {
   "cell_type": "code",
   "execution_count": 35,
   "id": "7678b4a2",
   "metadata": {},
   "outputs": [],
   "source": [
    "data_map['District'] = MIZ_consumption['District']"
   ]
  },
  {
   "cell_type": "code",
   "execution_count": 36,
   "id": "b5cfb266",
   "metadata": {},
   "outputs": [],
   "source": [
    "data_map_data = data_map.merge(MIZ_consumption, left_on='dtname', right_on='District')"
   ]
  },
  {
   "cell_type": "code",
   "execution_count": 37,
   "id": "9978bf7c",
   "metadata": {},
   "outputs": [
    {
     "name": "stdout",
     "output_type": "stream",
     "text": [
      "Index(['OBJECTID', 'dtname', 'stname', 'stcode11', 'dtcode11', 'year_stat',\n",
      "       'test', 'Dist_LGD', 'State_LGD', 'Shape_Leng', 'Shape.STArea()',\n",
      "       'Shape.STLength()', 'geometry', 'District'],\n",
      "      dtype='object')\n"
     ]
    }
   ],
   "source": [
    "print(data_map.columns)"
   ]
  },
  {
   "cell_type": "code",
   "execution_count": 40,
   "id": "1e858bb5",
   "metadata": {},
   "outputs": [],
   "source": [
    "import geopandas as gpd\n",
    "import pandas as pd\n",
    "import matplotlib.pyplot as plt"
   ]
  },
  {
   "cell_type": "code",
   "execution_count": 41,
   "id": "eaa7d6a0",
   "metadata": {},
   "outputs": [],
   "source": [
    "data_map = gpd.read_file(\"C:\\\\Users\\\\Chand\\\\Downloads\\\\MIZORAM_DISTRICTS.geojson\")"
   ]
  },
  {
   "cell_type": "code",
   "execution_count": 42,
   "id": "f1f75b30",
   "metadata": {},
   "outputs": [],
   "source": [
    "data_map = data_map.rename(columns={'dtname': 'District'})"
   ]
  },
  {
   "cell_type": "code",
   "execution_count": 43,
   "id": "9bc61185",
   "metadata": {},
   "outputs": [
    {
     "data": {
      "text/plain": [
       "<bound method DataFrame.rename of     OBJECTID   District   stname stcode11 dtcode11 year_stat  test  Dist_LGD  \\\n",
       "0        385    Kolasib  MIZORAM       15      282    2011_c     0       263   \n",
       "1        390     Aizawl  MIZORAM       15      283    2011_c     0       261   \n",
       "2        391      Mamit  MIZORAM       15      281    2011_c     1       266   \n",
       "3        403   Champhai  MIZORAM       15      284    2011_c     0       262   \n",
       "4        426   Serchhip  MIZORAM       15      285    2011_c     0       268   \n",
       "5        431    Lunglei  MIZORAM       15      286    2011_c     0       265   \n",
       "6        497      Saiha  MIZORAM       15      288    2011_c     0       267   \n",
       "7        499  Lawngtlai  MIZORAM       15      287    2011_c     0       264   \n",
       "8        734  Hnahthial  MIZORAM       15      793    201920     0       726   \n",
       "9        735    Saitual  MIZORAM       15      794    201920     0       727   \n",
       "10       736   Khawzawl  MIZORAM       15      795    201920     0       728   \n",
       "\n",
       "    State_LGD     Shape_Leng  Shape.STArea()  Shape.STLength()  \\\n",
       "0          15  300156.988279        0.141504          2.551826   \n",
       "1          15  513775.031283        0.186766          4.387195   \n",
       "2          15  454249.738702        0.267224          3.873609   \n",
       "3          15  374950.006615        0.137953          3.203824   \n",
       "4          15  334311.319910        0.129406          2.877383   \n",
       "5          15  413796.852641        0.301551          3.546919   \n",
       "6          15  314684.856669        0.132891          2.693260   \n",
       "7          15  523694.669140        0.215321          4.479509   \n",
       "8          15  212332.354415        0.090789          1.831629   \n",
       "9          15  376828.385403        0.155750          3.228753   \n",
       "10         15  270229.186096        0.103054          2.307433   \n",
       "\n",
       "                                             geometry  \n",
       "0   POLYGON ((92.84618 24.03472, 92.84704 24.03658...  \n",
       "1   POLYGON ((92.92085 24.4032, 92.92061 24.40339,...  \n",
       "2   POLYGON ((92.63814 23.89174, 92.63813 23.89274...  \n",
       "3   POLYGON ((93.38109 23.93463, 93.37979 23.93408...  \n",
       "4   POLYGON ((92.77986 23.59972, 92.77974 23.59972...  \n",
       "5   POLYGON ((92.70795 23.19294, 92.70622 23.19324...  \n",
       "6   POLYGON ((92.98692 22.63394, 92.98681 22.63394...  \n",
       "7   MULTIPOLYGON (((92.52081 22.76137, 92.51446 22...  \n",
       "8   POLYGON ((92.86428 23.17457, 92.86419 23.17458...  \n",
       "9   POLYGON ((92.991 24.11556, 92.99062 24.11561, ...  \n",
       "10  POLYGON ((93.18547 23.77482, 93.18529 23.7749,...  >"
      ]
     },
     "metadata": {},
     "output_type": "display_data"
    }
   ],
   "source": [
    "display(data_map.rename)"
   ]
  },
  {
   "cell_type": "code",
   "execution_count": 45,
   "id": "451226f1",
   "metadata": {},
   "outputs": [],
   "source": [
    "MIZ_consumption = pd.read_csv(\"C:\\\\Users\\\\Chand\\\\Downloads\\\\A5\\\\NSSO68.csv\", low_memory=False)"
   ]
  },
  {
   "cell_type": "code",
   "execution_count": 46,
   "id": "f4b52750",
   "metadata": {},
   "outputs": [],
   "source": [
    "MIZ_consumption = MIZ.groupby('District')['total_consumption'].sum().reset_index()"
   ]
  },
  {
   "cell_type": "code",
   "execution_count": 47,
   "id": "7c583103",
   "metadata": {},
   "outputs": [
    {
     "name": "stdout",
     "output_type": "stream",
     "text": [
      "    District  total_consumption\n",
      "0    Aizawl        23071.710148\n",
      "1   Champhai        7531.556744\n",
      "2    Kolasib        4149.339286\n",
      "3  Lawngtlai        5008.772619\n",
      "4    Lunglei       14292.095238\n"
     ]
    }
   ],
   "source": [
    "print(MIZ_consumption.head())"
   ]
  },
  {
   "cell_type": "code",
   "execution_count": 48,
   "id": "2ad40879",
   "metadata": {},
   "outputs": [],
   "source": [
    "data_map = gpd.read_file(\"C:\\\\Users\\\\Chand\\\\Downloads\\\\MIZORAM_DISTRICTS.geojson\")\n",
    "data_map = data_map.rename(columns={'dtname': 'total_consumption'})"
   ]
  },
  {
   "cell_type": "code",
   "execution_count": 49,
   "id": "cb40836c",
   "metadata": {},
   "outputs": [
    {
     "data": {
      "image/png": "[encoded data removed]",
      "text/plain": [
       "<Figure size 640x480 with 1 Axes>"
      ]
     },
     "metadata": {},
     "output_type": "display_data"
    }
   ],
   "source": [
    "fig, ax = plt.subplots(1, 1)\n",
    "data_map.plot(column='total_consumption', cmap='viridis', legend=True, ax=ax)\n",
    "ax.set_title('Total Consumption by District in Mizoram')\n",
    "plt.show()"
   ]
  },
  {
   "cell_type": "code",
   "execution_count": null,
   "id": "e237b688",
   "metadata": {},
   "outputs": [],
   "source": []
  }
 ],
 "metadata": {
  "kernelspec": {
   "display_name": "Python 3 (ipykernel)",
   "language": "python",
   "name": "python3"
  },
  "language_info": {
   "codemirror_mode": {
    "name": "ipython",
    "version": 3
   },
   "file_extension": ".py",
   "mimetype": "text/x-python",
   "name": "python",
   "nbconvert_exporter": "python",
   "pygments_lexer": "ipython3",
   "version": "3.11.5"
  }
 },
 "nbformat": 4,
 "nbformat_minor": 5
}
